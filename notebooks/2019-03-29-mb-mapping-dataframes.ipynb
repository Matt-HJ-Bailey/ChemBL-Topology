{
 "cells": [
  {
   "cell_type": "markdown",
   "metadata": {},
   "source": [
    "## 2019-03-28 Making Dataframes\n",
    "Today has been spent turning the large .sd file into a\n",
    "series of more manageable dataframes. \n",
    "The script /src/data/make_panda_dataframes.py\n",
    "will do so and take about 20 minutes on my laptop."
   ]
  },
  {
   "cell_type": "code",
   "execution_count": 2,
   "metadata": {},
   "outputs": [],
   "source": [
    "import numpy as np\n",
    "import sklearn\n",
    "from rdkit import Chem\n",
    "from rdkit.Chem import rdDepictor\n",
    "from rdkit.Chem.Draw import rdMolDraw2D\n",
    "from IPython.display import SVG, IFrame\n",
    "import gzip\n",
    "import os\n",
    "import pickle\n",
    "import pandas as pd"
   ]
  },
  {
   "cell_type": "code",
   "execution_count": 3,
   "metadata": {
    "scrolled": true
   },
   "outputs": [],
   "source": [
    "with open(\"../data/processed/curated_set_with_publication_year.pd.pkl\", \"rb\") as infile:\n",
    "    df = pickle.load(infile)\n"
   ]
  },
  {
   "cell_type": "code",
   "execution_count": 4,
   "metadata": {},
   "outputs": [
    {
     "name": "stdout",
     "output_type": "stream",
     "text": [
      "0 float64\n",
      "1 float64\n",
      "2 float64\n",
      "3 float64\n",
      "4 int64\n",
      "5 object\n",
      "6 float64\n",
      "7 int64\n",
      "8 int64\n",
      "9 int64\n",
      "10 bool\n",
      "11 float64\n",
      "12 object\n",
      "13 bool\n",
      "14 bool\n",
      "15 bool\n",
      "16 bool\n",
      "17 object\n",
      "18 int64\n",
      "19 int64\n",
      "20 float64\n",
      "21 object\n",
      "22 int64\n",
      "23 object\n",
      "24 object\n",
      "25 bool\n",
      "26 bool\n",
      "27 int64\n",
      "28 object\n",
      "29 object\n",
      "30 object\n",
      "31 object\n",
      "32 object\n"
     ]
    }
   ],
   "source": [
    "for index, item in enumerate(df.dtypes):\n",
    "    print(index, item)"
   ]
  },
  {
   "cell_type": "markdown",
   "metadata": {},
   "source": [
    "Extract the numerical columns from the table, and put them into a numpy array so we can try to map them.\n"
   ]
  },
  {
   "cell_type": "code",
   "execution_count": 5,
   "metadata": {},
   "outputs": [
    {
     "name": "stdout",
     "output_type": "stream",
     "text": [
      "['BIOACT_PCHEMBL_VALUE', 'CMP_ACD_LOGD', 'CMP_ACD_LOGP', 'CMP_ALOGP', 'CMP_AROMATIC_RINGS', 'CMP_FULL_MWT', 'CMP_HBA', 'CMP_HBD', 'CMP_HEAVY_ATOMS', 'CMP_LOGP', 'CMP_NUM_ALERTS', 'CMP_NUM_RO5_VIOLATIONS', 'CMP_PSA', 'CMP_RTB', 'DOC_YEAR']\n",
      "(75000, 15)\n"
     ]
    }
   ],
   "source": [
    "numerical_cols = [df.columns[pos] for pos, item in enumerate(df.dtypes) if item in [np.float64, np.int64]]\n",
    "print(numerical_cols)\n",
    "data = df[numerical_cols].values\n",
    "print(data.shape)"
   ]
  },
  {
   "cell_type": "code",
   "execution_count": null,
   "metadata": {},
   "outputs": [],
   "source": []
  },
  {
   "cell_type": "code",
   "execution_count": 11,
   "metadata": {},
   "outputs": [
    {
     "name": "stdout",
     "output_type": "stream",
     "text": [
      "KeplerMapper(verbose=1)\n",
      "..Projecting on data shaped (75000, 15)\n",
      "\n",
      "..Projecting data using: sum\n",
      "\n",
      "..Scaling with: MinMaxScaler(copy=True, feature_range=(0, 1))\n",
      "\n",
      "Mapping on data shaped (75000, 15) using lens shaped (75000, 1)\n",
      "\n",
      "Creating 5 hypercubes.\n",
      "\n",
      "Created 0 edges and 0 nodes in 0:00:00.026833.\n"
     ]
    },
    {
     "name": "stderr",
     "output_type": "stream",
     "text": [
      "/home/matthew-bailey/kepler-mapper/kmapper/cover.py:233: RuntimeWarning: invalid value encountered in greater_equal\n",
      "  entries = (data[:, self.di_] >= lowerbounds) & (\n",
      "/home/matthew-bailey/kepler-mapper/kmapper/cover.py:234: RuntimeWarning: invalid value encountered in less_equal\n",
      "  data[:, self.di_] <= upperbounds\n"
     ]
    },
    {
     "ename": "Exception",
     "evalue": "Visualize requires a mapper with more than 0 nodes. \nIt is possible that the constructed mapper could have been constructed with bad parameters. This can occasionally happens when using the default clustering algorithm. Try changing `eps` or `min_samples` in the DBSCAN clustering algorithm.",
     "output_type": "error",
     "traceback": [
      "\u001b[0;31m---------------------------------------------------------------------------\u001b[0m",
      "\u001b[0;31mException\u001b[0m                                 Traceback (most recent call last)",
      "\u001b[0;32m<ipython-input-11-1509203fefb1>\u001b[0m in \u001b[0;36m<module>\u001b[0;34m\u001b[0m\n\u001b[1;32m     11\u001b[0m \u001b[0;31m# Visualize it\u001b[0m\u001b[0;34m\u001b[0m\u001b[0;34m\u001b[0m\u001b[0;34m\u001b[0m\u001b[0m\n\u001b[1;32m     12\u001b[0m mapper.visualize(graph, path_html=\"map-dataframe-test.html\",\n\u001b[0;32m---> 13\u001b[0;31m                  title=\"Map Dataframe Test\")\n\u001b[0m\u001b[1;32m     14\u001b[0m \u001b[0mIFrame\u001b[0m\u001b[0;34m(\u001b[0m\u001b[0;34m\"map-dataframe-test.html\"\u001b[0m\u001b[0;34m,\u001b[0m \u001b[0;36m800\u001b[0m\u001b[0;34m,\u001b[0m \u001b[0;36m600\u001b[0m\u001b[0;34m)\u001b[0m\u001b[0;34m\u001b[0m\u001b[0;34m\u001b[0m\u001b[0m\n",
      "\u001b[0;32m~/kepler-mapper/kmapper/kmapper.py\u001b[0m in \u001b[0;36mvisualize\u001b[0;34m(self, graph, color_function, custom_tooltips, custom_meta, path_html, title, save_file, X, X_names, lens, lens_names, show_tooltips, nbins)\u001b[0m\n\u001b[1;32m    739\u001b[0m         \u001b[0;32mif\u001b[0m \u001b[0;32mnot\u001b[0m \u001b[0mlen\u001b[0m\u001b[0;34m(\u001b[0m\u001b[0mgraph\u001b[0m\u001b[0;34m[\u001b[0m\u001b[0;34m\"nodes\"\u001b[0m\u001b[0;34m]\u001b[0m\u001b[0;34m)\u001b[0m \u001b[0;34m>\u001b[0m \u001b[0;36m0\u001b[0m\u001b[0;34m:\u001b[0m\u001b[0;34m\u001b[0m\u001b[0;34m\u001b[0m\u001b[0m\n\u001b[1;32m    740\u001b[0m             raise Exception(\n\u001b[0;32m--> 741\u001b[0;31m                 \u001b[0;34m\"Visualize requires a mapper with more than 0 nodes. \\nIt is possible that the constructed mapper could have been constructed with bad parameters. This can occasionally happens when using the default clustering algorithm. Try changing `eps` or `min_samples` in the DBSCAN clustering algorithm.\"\u001b[0m\u001b[0;34m\u001b[0m\u001b[0;34m\u001b[0m\u001b[0m\n\u001b[0m\u001b[1;32m    742\u001b[0m             )\n\u001b[1;32m    743\u001b[0m \u001b[0;34m\u001b[0m\u001b[0m\n",
      "\u001b[0;31mException\u001b[0m: Visualize requires a mapper with more than 0 nodes. \nIt is possible that the constructed mapper could have been constructed with bad parameters. This can occasionally happens when using the default clustering algorithm. Try changing `eps` or `min_samples` in the DBSCAN clustering algorithm."
     ]
    }
   ],
   "source": [
    "import kmapper as km\n",
    "from kmapper import jupyter\n",
    "from sklearn import cluster\n",
    "mapper = km.KeplerMapper(verbose=1)\n",
    "projected_data = mapper.project(data, projection=\"sum\")\n",
    "graph = mapper.map(projected_data,\n",
    "                   data,\n",
    "                   cover=km.Cover(n_cubes=5, perc_overlap=0.75),\n",
    "                   clusterer=cluster.AgglomerativeClustering(n_clusters=100,\n",
    "                                                             affinity=\"cosine\"))\n",
    "# Visualize it\n",
    "mapper.visualize(graph, path_html=\"map-dataframe-test.html\",\n",
    "                 title=\"Map Dataframe Test\")\n",
    "IFrame(\"map-dataframe-test.html\", 800, 600)"
   ]
  },
  {
   "cell_type": "code",
   "execution_count": null,
   "metadata": {},
   "outputs": [],
   "source": []
  }
 ],
 "metadata": {
  "kernelspec": {
   "display_name": "Python 3",
   "language": "python",
   "name": "python3"
  },
  "language_info": {
   "codemirror_mode": {
    "name": "ipython",
    "version": 3
   },
   "file_extension": ".py",
   "mimetype": "text/x-python",
   "name": "python",
   "nbconvert_exporter": "python",
   "pygments_lexer": "ipython3",
   "version": "3.7.2"
  }
 },
 "nbformat": 4,
 "nbformat_minor": 2
}
