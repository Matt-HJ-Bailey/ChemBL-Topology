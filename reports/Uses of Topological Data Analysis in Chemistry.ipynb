{
 "cells": [
  {
   "cell_type": "markdown",
   "metadata": {},
   "source": [
    "# Introduction\n",
    "\n",
    "Topological Data Analysis (TDA) is a method to simplify highly complex and many-dimensional data.\n",
    "It does this by clustering datapoints and considering the connections between them. This was\n",
    "first used by Singh, Mémoli and Carlson in 2007 with the `Mapper` algorithm.<cite data-cite=\"Singh2007\">(Singh, 2008)</cite>\n",
    "In this work, I use the `KeplerMapper` implementation in `Python`.<cite data-cite=\"KeplerMapper\">(KeplerMapper)</cite>\n",
    "TDA is useful as a technique because it is generally applicable for any dataset in which there there is a metric of similarity or closeness, not just in Euclidean space (where the metric is $\\left|\\vec{r}_1 - \\vec{r}_2\\right|$). It is especially good when the dataset is very high dimensional and sparse in that space. TDA can simplify the dataset into a human-readable form while preserving the significant features of the original dataset. It is built on the mathematical underpinnings of topology, in that it preserves local nearness (because the data points within a cluster are near to one another, and linked clusters are also near to one another in the data space) but does not preserve long distances. This is useful in chemical analysis, because chemical space using fingerprints often has thousands of dimensions. While the similarity of two compounds is important and implies that they should have similar chemical properties, if two compounds are greatly dissimilar we cannot say anything about their respective properties.\n",
    "\n",
    "## Related Works\n",
    "Topological Data Analysis has been used to analyse gene expression in asthma sufferers,<cite data-cite=\"Schofield2019\">(Schofield, 2019)</cite>, analysis of zeolite storage<cite data-cite=\"Lee2017\">(Lee, 2017)</cite>, progression of breast cancer <cite data-cite=\"Nicolau2011\">(Nicolau, 2011)</cite> and interpretability of machine learning programs, amongst others. One interesting use of the TDA technique that I focus on in **Chapter 4** is the Fibres of Failure method, which uses TDA on machine learning prediction errors in an attempt to correct for them. <cite data-cite=\"Carlsson2018\">(Carlsson, 2018)</cite>\n",
    "\n",
    "For the machine learning section, I use a Random Forest predictor as developed by Svetnik in 2003. <cite data-cite=\"Svetnik2003\">(Svetnik, 2003)</cite> Random Forests have been used in chemistry by Banerjee and Preissner to predict whether a given compound will be sweet or bitter achieving accuracy of over 95%<cite data-cite=\"Banerjee2018\">(Banerjee, 2018)</cite>, and by Palmer et al to predict solubility of compounds<cite data-cite=\"Palmer2006\">(Palmer, 2006)</cite>, amongst others. Random Forest is a supervised machine learning method that builds a series of decision trees, and it is often used by data scientists because the individual decisions are interpretable. A Random Forest essentially places weights on each feature of an observation, and decides based on the importance of each feature. Each decision node is only given a subset of the data in a technique called \\enquote{bootstrapping}, so it can also estimate its own inaccuracy."
   ]
  },
  {
   "cell_type": "markdown",
   "metadata": {},
   "source": [
    "# Theory and Computational Method\n",
    "## Theory\n",
    "\n",
    "Topological Data Analysis (TDA) works by constructing a simple lens (sometimes referred to as a filter function) which reduces the dimensionality of the data. For example, for a series of points in the $xyz$ plane, projection on the $y$ axis may be a suitable lens. Lens are not restricted to being a simple function of the data, however, and can be more abstract -- in this work, I use the results of dimensionality reduction algorithms or properties of chemicals as the lens. \n",
    "\n",
    "Then, a cover is constructed in the lens space. This is a series of overlapping hypercubes, so in our $xyz$ plane example we may use boxes from $0 \\to 0.4$, $0.3 \\to 0.7$ and $0.6 \\to 1.0$ along $y$. The algorithm then looks at the data points contained within each box, and applies a clustering algorithm on the original data. This means that the data loss from the dimensionality reduction is prevented. \n",
    "\n",
    "The clusters are placed on the graph, and if any two clusters share a data point in the original data, the algorithm draws an edge between them. It proceeds like this until all the data is processed. Mathematically, this is constructing the \\enquote{nerve} of the cover. The progress is demonstrated in Figure 1, taken from Chazal *et al*.<cite data-cite=\"Chazal2017\">(Chazal, 2017)</cite>.\n",
    "\n",
    "Finally, we can colour the graph and visualise it to aid human interpretation."
   ]
  },
  {
   "cell_type": "code",
   "execution_count": 1,
   "metadata": {},
   "outputs": [
    {
     "data": {
      "image/png": "[encoded data removed]",
      "text/plain": [
       "<wand.image.Image: cc09e44 'PDF' (358x161)>"
      ]
     },
     "execution_count": 1,
     "metadata": {},
     "output_type": "execute_result"
    }
   ],
   "source": [
    "from wand.image import Image as WImage\n",
    "img = WImage(filename='croppedfig.pdf')\n",
    "img"
   ]
  },
  {
   "cell_type": "markdown",
   "metadata": {},
   "source": [
    "## Computational Method\n",
    "All of the computational work in this report was done using `Python 3.7` and the Jupyter notebook.\n",
    "This was chosen because of the range of available software packages, and its ease of use."
   ]
  },
  {
   "cell_type": "code",
   "execution_count": 2,
   "metadata": {},
   "outputs": [],
   "source": [
    "import pickle\n",
    "import sys\n",
    "import scipy\n",
    "import numpy as np\n",
    "import pandas as pd\n",
    "import matplotlib.pyplot as plt\n",
    "from collections import Counter\n",
    "%config InlineBackend.figure_format = 'pdf'\n",
    "import IPython\n",
    "from IPython.display import SVG, IFrame"
   ]
  },
  {
   "cell_type": "code",
   "execution_count": 3,
   "metadata": {},
   "outputs": [],
   "source": [
    "DESIRED_TARGETS = [\"CHEMBL240\"]\n",
    "DRUG_SPACE_TARGETS = [\"CHEMBL4015\", \"CHEMBL2409\"]\n",
    "# To ensure repeatability of runs, the random seed should\n",
    "# be consistent.\n",
    "RANDOM_STATE = 2019\n",
    "RENEW_MATRIX = False\n",
    "# Data splitting hyperparameters.\n",
    "TRAIN_RF_FRACTION = 0.60\n",
    "TRAIN_FIFA_FRACTION = 0.20\n",
    "VALIDATE_FRACTION = 1.0 - TRAIN_FIFA_FRACTION - TRAIN_RF_FRACTION\n",
    "\n",
    "# Community detection hyperparameters.\n",
    "# Discard any with too small a set of nodes,\n",
    "# or too small a prediction error.\n",
    "COMMUNITY_SIZE_CUTOFF = 3\n",
    "COMMUNITY_ERROR_CUTOFF = 0.10\n",
    "COMMUNITY_STD_CUTOFF = 0.10"
   ]
  },
  {
   "cell_type": "markdown",
   "metadata": {},
   "source": [
    "The dataset used in this work was taken from a sanitised version of the ChEMBL database created by Lenselink *et al*. <cite data-cite=\"Gaulton2012\">(Gaulton, 2012)</cite><cite data-cite=\"Lenselink2017\">(Lenselink, 2017)</cite> This dataset contains only the entries in ChEMBL that have minimal experimental error, confident numerical ratings and no duplicate measurements. From this dataset, I used RDKit to parse chemical information into a computationally-accessible format.<cite data-cite=\"rdkit\">(RDKit)</cite> The drugs were converted into SMILES strings, and their chemical fingerprints were calculted using a Morgan Fingerprinting algorithm with\n",
    "a fingerprint radius of 3 bonds and a fingerprint size of 2048 bits."
   ]
  },
  {
   "cell_type": "code",
   "execution_count": 4,
   "metadata": {},
   "outputs": [],
   "source": [
    "ACTIVITY_CUTOFF = 5.4"
   ]
  },
  {
   "cell_type": "markdown",
   "metadata": {},
   "source": [
    "In the dataset, activity is quantified by a `pChEMBL` value, which is logarithmic and ranges between 1 and 10. Examples in the literature often demarcate \"active\" vs \"inactive\" at `pChEMBL = 5.0`, but this classifies 90% of \n",
    "compounds in the dataset as active. Instead, `pChEMBL = 5.4` is used as a cutoff because this makes half the dataset active and half inactive."
   ]
  },
  {
   "cell_type": "code",
   "execution_count": 5,
   "metadata": {},
   "outputs": [],
   "source": [
    "FP_SIZE = 2048"
   ]
  },
  {
   "cell_type": "code",
   "execution_count": 6,
   "metadata": {},
   "outputs": [],
   "source": [
    "import rdkit\n",
    "import rdkit.Chem as Chem\n",
    "import rdkit.Chem.AllChem as AllChem\n",
    "from rdkit.Chem import rdDepictor\n",
    "from rdkit.Chem.Draw import rdMolDraw2D\n",
    "from rdkit.Chem import DataStructs"
   ]
  },
  {
   "cell_type": "code",
   "execution_count": 7,
   "metadata": {},
   "outputs": [],
   "source": [
    "input_location = \"../data/processed/curated_set_with_publication_year.pd.pkl\"\n",
    "with open(input_location, \"rb\") as infile:\n",
    "    df = pickle.load(infile)\n",
    "\n",
    "possible_targets = Counter([item for item in df[\"TGT_CHEMBL_ID\"]])\n",
    "possible_drugs = Counter([item for item in df[\"CMP_CHEMBL_ID\"]])"
   ]
  },
  {
   "cell_type": "code",
   "execution_count": 8,
   "metadata": {},
   "outputs": [],
   "source": [
    "fingerprint_dict = {}\n",
    "for index, row in df.iterrows():\n",
    "    target = row[\"TGT_CHEMBL_ID\"]\n",
    "    if target in DESIRED_TARGETS:\n",
    "        drug = row[\"CMP_CHEMBL_ID\"]\n",
    "        molec = Chem.MolFromSmiles(row[\"SMILES\"])\n",
    "        fingerprint_dict[drug] = AllChem.GetMorganFingerprintAsBitVect(molec,\n",
    "                                                                       radius=3,\n",
    "                                                                       nBits=FP_SIZE)"
   ]
  },
  {
   "cell_type": "markdown",
   "metadata": {},
   "source": [
    "I used KeplerMapper to perform the topological data analysis.<cite data-cite=\"KeplerMapper\">(KeplerMapper)</cite>  This is a free and open source\n",
    "implementation of the Mapper algorithm which runs in `Python`. To do further graph manipulations including community detection, I used the `igraph` package.<cite data-cite=\"igraph\">(igraph)</cite>"
   ]
  },
  {
   "cell_type": "code",
   "execution_count": 9,
   "metadata": {},
   "outputs": [],
   "source": [
    "import kmapper as km\n",
    "import igraph"
   ]
  },
  {
   "cell_type": "code",
   "execution_count": 10,
   "metadata": {},
   "outputs": [],
   "source": [
    "def keplermapper_to_igraph(old_graph):\n",
    "    \"\"\"\n",
    "    Converts a KeplerMapper graph into an igraph\n",
    "    format for plotting and community detection\n",
    "    \"\"\"\n",
    "    new_graph = igraph.Graph()\n",
    "    vertices = list(old_graph[\"nodes\"].keys())\n",
    "    new_graph.add_vertices(vertices)\n",
    "\n",
    "    edges = []\n",
    "    for link in old_graph[\"links\"]:\n",
    "        edges.extend([(link, otherlink) for otherlink in old_graph[\"links\"][link]])\n",
    "    new_graph.add_edges(edges)\n",
    "    return new_graph"
   ]
  },
  {
   "cell_type": "code",
   "execution_count": 11,
   "metadata": {},
   "outputs": [],
   "source": [
    "def _repr_svg_patch_(self):\n",
    "    \"\"\"\n",
    "    Returns an SVG representation of this plot as a string.\n",
    "    This method is used by IPython to display this plot inline.\n",
    "    Patched by Matt Bailey 2019-04-30 to fix a Python 3 compatibility\n",
    "    issue.\n",
    "    \"\"\"\n",
    "    io = igraph.compat.BytesIO()\n",
    "    cairo = igraph.drawing.utils.find_cairo()\n",
    "    surface = cairo.SVGSurface(io, self.bbox.width, self.bbox.height)\n",
    "    context = cairo.Context(surface)\n",
    "    self.redraw(context)\n",
    "    context.show_page()\n",
    "    surface.finish()\n",
    "    result = io.getvalue()\n",
    "    if hasattr(result, \"encode\"):\n",
    "        return result.encode(\"utf-8\")          # for Python 2.x\n",
    "    else:\n",
    "        return result.decode(\"utf-8\")          # for Python 3.x\n",
    "\n",
    "\n",
    "setattr(igraph.drawing.Plot, \"_repr_svg_\", _repr_svg_patch_)"
   ]
  },
  {
   "cell_type": "markdown",
   "metadata": {},
   "source": [
    "Topological data analysis requires an algorithm to cluster the datapoints into nodes. I used the `HDBSCAN` algorithm\n",
    "to perform this task, because it is designed to cope well with varying densities of data points. This is important for analysis of chemical space, because the density of experimental data is often inconsistent.<cite data-cite=\"McInnes2017\">(McInnes, 2017)</cite>"
   ]
  },
  {
   "cell_type": "code",
   "execution_count": 12,
   "metadata": {},
   "outputs": [],
   "source": [
    "import hdbscan\n",
    "clusterer = hdbscan.HDBSCAN(metric='precomputed', min_cluster_size=5, min_samples=2)\n",
    "fifa_clusterer = hdbscan.HDBSCAN(metric='precomputed', min_cluster_size=3, min_samples=1)"
   ]
  },
  {
   "cell_type": "markdown",
   "metadata": {},
   "source": [
    "Finally, I used Scikit-Learn to do to the machine learning in this work.<cite data-cite=\"scikit-learn\">(Scikit-Learn)</cite>"
   ]
  },
  {
   "cell_type": "code",
   "execution_count": 13,
   "metadata": {},
   "outputs": [],
   "source": [
    "import sklearn.ensemble\n",
    "from sklearn.manifold import MDS"
   ]
  },
  {
   "cell_type": "markdown",
   "metadata": {},
   "source": [
    "# Qualitative Results\n",
    "## Exploring Chemical Space\n",
    "One powerful way to use topological data analysis is to explore the similarities in chemical space in a human-readable form. To do so, we must quantify the \"distance\" between two compounds in chemical space. I have\n",
    "chosen to do so with the Tanimoto Similarity, which is\n",
    "\\begin{equation}\n",
    "   d_T = \\frac{M_{11}}{M_{10} + M_{01} - M_{11}}\n",
    "\\end{equation}\n",
    "with $M_{11}$ being the number of shared 1s in two fingerprints and $M_{10} + M_{01}$ being the number of 1s in one fingerprint but not in the other.\n",
    "\n",
    "Generating the distance matrix for a set of compounds is an $\\mathcal{O}\\left(N^2\\right)$ operation in both time and memory. The\n",
    "distance matrix calculation was the limiting factor for the amount of data I could analyse."
   ]
  },
  {
   "cell_type": "code",
   "execution_count": 14,
   "metadata": {},
   "outputs": [],
   "source": [
    "chem_space_df = df[np.logical_or.reduce([df[\"TGT_CHEMBL_ID\"] == tgt\n",
    "                                         for tgt in DESIRED_TARGETS])]\n",
    "chem_space_df = sklearn.utils.shuffle(chem_space_df,\n",
    "                                      random_state=RANDOM_STATE)"
   ]
  },
  {
   "cell_type": "code",
   "execution_count": 15,
   "metadata": {},
   "outputs": [],
   "source": [
    "if RENEW_MATRIX:\n",
    "    distance_matrix = np.zeros([len(chem_space_df), len(chem_space_df)])\n",
    "    for index in range(len(chem_space_df)):\n",
    "        drug = chem_space_df.iloc[index][\"CMP_CHEMBL_ID\"]\n",
    "        fp_1 = fingerprint_dict[drug]\n",
    "        for other_index in range(index):\n",
    "            other_drug = chem_space_df.iloc[other_index][\"CMP_CHEMBL_ID\"]\n",
    "            fp_2 = fingerprint_dict[other_drug]\n",
    "            distance = 1.0 - rdkit.DataStructs.TanimotoSimilarity(fp_1, fp_2)\n",
    "            distance_matrix[index, other_index] = distance\n",
    "            distance_matrix[other_index, index] = distance\n",
    "    pickle.dump(distance_matrix, open(\"chemical-space-distance.pkl\", \"wb\"))\n",
    "else:\n",
    "    with open(\"chemical-space-distance.pkl\", \"rb\") as pklfile:\n",
    "        distance_matrix = pickle.load(pklfile)"
   ]
  },
  {
   "cell_type": "code",
   "execution_count": 16,
   "metadata": {},
   "outputs": [
    {
     "data": {
      "application/pdf": "[encoded data removed]",
      "text/plain": [
       "<Figure size 432x288 with 2 Axes>"
      ]
     },
     "metadata": {
      "needs_background": "light"
     },
     "output_type": "display_data"
    }
   ],
   "source": [
    "%matplotlib inline\n",
    "\n",
    "plt.imshow(distance_matrix, cmap='magma')\n",
    "plt.colorbar()\n",
    "plt.savefig(\"./Figures/distance-matrix.pdf\")"
   ]
  },
  {
   "cell_type": "markdown",
   "metadata": {},
   "source": [
    "In the visualisation of the distance matrix above, we can see that almost all compounds are very distinct from the others in the dataset, with only small points of similar compounds. This is likely because synthetic chemists like to publish data about compounds that are different to those that have come before.\n",
    "\n",
    "The key feature of topological data analysis that makes it useful to explore chemical space is that it shows low-dimensional data while keeping the links of high-dimensional data. Here, I use Multi-Dimensional Scaling (MDS) to reduce the dimensionality of the data to two principal components. MDS works very similarly to principal component analysis, but is applicable to more general spaces (such as non-metric chemical space).<cite data-cite=\"Martin2015\">(Martin, 2015)</cite>"
   ]
  },
  {
   "cell_type": "code",
   "execution_count": 17,
   "metadata": {},
   "outputs": [],
   "source": [
    "mds_coordinate = MDS(n_components=1,\n",
    "                     dissimilarity=\"precomputed\",\n",
    "                     metric=False).fit_transform(distance_matrix)"
   ]
  },
  {
   "cell_type": "markdown",
   "metadata": {},
   "source": [
    "One of the weaknesses of the TDA technique is the degree of parameterisation. The clusterer and the cover used to construct the graph are both heavily parameterised, and these parameters can be tweaked cause great variation in the graphs produced."
   ]
  },
  {
   "cell_type": "code",
   "execution_count": 18,
   "metadata": {},
   "outputs": [
    {
     "ename": "NameError",
     "evalue": "name 'activities' is not defined",
     "output_type": "error",
     "traceback": [
      "\u001b[0;31m---------------------------------------------------------------------------\u001b[0m",
      "\u001b[0;31mNameError\u001b[0m                                 Traceback (most recent call last)",
      "\u001b[0;32m<ipython-input-18-a831d89b4ef7>\u001b[0m in \u001b[0;36m<module>\u001b[0;34m\u001b[0m\n\u001b[1;32m      1\u001b[0m \u001b[0mcover\u001b[0m \u001b[0;34m=\u001b[0m \u001b[0mkm\u001b[0m\u001b[0;34m.\u001b[0m\u001b[0mCover\u001b[0m\u001b[0;34m(\u001b[0m\u001b[0mn_cubes\u001b[0m\u001b[0;34m=\u001b[0m\u001b[0;34m[\u001b[0m\u001b[0;36m5\u001b[0m\u001b[0;34m,\u001b[0m \u001b[0;36m20\u001b[0m\u001b[0;34m]\u001b[0m\u001b[0;34m,\u001b[0m \u001b[0mperc_overlap\u001b[0m\u001b[0;34m=\u001b[0m\u001b[0;34m[\u001b[0m\u001b[0;36m0.40\u001b[0m\u001b[0;34m,\u001b[0m \u001b[0;36m0.15\u001b[0m\u001b[0;34m]\u001b[0m\u001b[0;34m)\u001b[0m\u001b[0;34m\u001b[0m\u001b[0;34m\u001b[0m\u001b[0m\n\u001b[0;32m----> 2\u001b[0;31m \u001b[0mlens\u001b[0m \u001b[0;34m=\u001b[0m \u001b[0mnp\u001b[0m\u001b[0;34m.\u001b[0m\u001b[0mconcatenate\u001b[0m\u001b[0;34m(\u001b[0m\u001b[0;34m[\u001b[0m\u001b[0mmds_coordinate\u001b[0m\u001b[0;34m,\u001b[0m \u001b[0mactivities\u001b[0m\u001b[0;34m.\u001b[0m\u001b[0mreshape\u001b[0m\u001b[0;34m(\u001b[0m\u001b[0;34m-\u001b[0m\u001b[0;36m1\u001b[0m\u001b[0;34m,\u001b[0m \u001b[0;36m1\u001b[0m\u001b[0;34m)\u001b[0m\u001b[0;34m]\u001b[0m\u001b[0;34m,\u001b[0m \u001b[0maxis\u001b[0m\u001b[0;34m=\u001b[0m\u001b[0;36m1\u001b[0m\u001b[0;34m)\u001b[0m\u001b[0;34m\u001b[0m\u001b[0;34m\u001b[0m\u001b[0m\n\u001b[0m",
      "\u001b[0;31mNameError\u001b[0m: name 'activities' is not defined"
     ]
    }
   ],
   "source": [
    "cover = km.Cover(n_cubes=[5, 20], perc_overlap=[0.40, 0.15])\n",
    "lens = np.concatenate([mds_coordinate, activities.reshape(-1, 1)], axis=1)"
   ]
  },
  {
   "cell_type": "code",
   "execution_count": null,
   "metadata": {
    "scrolled": true
   },
   "outputs": [],
   "source": [
    "mapper = km.KeplerMapper(verbose=0)\n",
    "graph = mapper.map(lens,\n",
    "                   X=distance_matrix,\n",
    "                   precomputed=True,\n",
    "                   cover=cover,\n",
    "                   clusterer=clusterer)\n",
    "\n",
    "chemical_space_graph = keplermapper_to_igraph(graph)"
   ]
  },
  {
   "cell_type": "markdown",
   "metadata": {},
   "source": [
    "When the TDA graphs are going to be analysed by humans, colouring the clusters by a property is important. This enables complex chemical information, such as \"all of these similar chemicals are equally active\" to be intuitively visualised. Here, I colour the clusters by the maximum bioactivity of the compounds within the cluster to see which clusters are promising for drug discovery.\n",
    "\n",
    "The colouring function can be an abstract property of the dataset which was not taken into account earlier. For instance, I could colour by solubility or by $pKa $ after using activity as a lens function, to see if there are any correlations between those properties and bioactivity."
   ]
  },
  {
   "cell_type": "code",
   "execution_count": null,
   "metadata": {},
   "outputs": [],
   "source": [
    "def normalise_array(arr):\n",
    "    \"\"\"\n",
    "    Normalises an array or list to have\n",
    "    all elements in the range [0-1)\n",
    "    \"\"\"\n",
    "    arr = np.array(arr)\n",
    "    color_func = arr - np.min(arr)\n",
    "    arr = arr / np.max(arr)\n",
    "    return arr"
   ]
  },
  {
   "cell_type": "code",
   "execution_count": null,
   "metadata": {},
   "outputs": [],
   "source": [
    "cmap = plt.cm.get_cmap(\"viridis\")\n",
    "color_activities = []\n",
    "color_otherprops = []\n",
    "for vertex in chemical_space_graph.vs:\n",
    "    chem_indices = graph[\"nodes\"][vertex[\"name\"]]\n",
    "    vertex_activities = np.array([chem_space_df.iloc[index][\"BIOACT_PCHEMBL_VALUE\"]\n",
    "                                  for index in chem_indices])\n",
    "    vertex_otherprop = np.array([chem_space_df.iloc[index][\"CMP_ACD_LOGD\"]\n",
    "                                  for index in chem_indices])\n",
    "    color_otherprop = np.nanmax(vertex_otherprop)\n",
    "    color_otherprops.append(color_otherprop)\n",
    "    color_activity = np.nanmax(vertex_activities)\n",
    "    color_activities.append(color_activity)\n",
    "\n",
    "color_activities = normalise_array(color_activities)\n",
    "color_otherprops = normalise_array(color_otherprops)\n",
    "\n",
    "colors = []\n",
    "for color_activity in color_activities:\n",
    "    colors.append(cmap(color_activity))\n",
    "\n",
    "colors_otherprop = []\n",
    "for color_otherprop in color_otherprops:\n",
    "    colors_otherprop.append(cmap(color_otherprop))\n"
   ]
  },
  {
   "cell_type": "code",
   "execution_count": null,
   "metadata": {},
   "outputs": [],
   "source": [
    "layout = chemical_space_graph.layout(\"fr\")\n",
    "igraph.plot(chemical_space_graph, layout = layout,\n",
    "            vertex_color = colors, edge_width=1.0,\n",
    "            vertex_size=5, target=\"./Figures/chemical-space-graph.svg\",\n",
    "            inline=True)"
   ]
  },
  {
   "cell_type": "code",
   "execution_count": null,
   "metadata": {},
   "outputs": [],
   "source": [
    "igraph.plot(chemical_space_graph, layout = layout,\n",
    "            vertex_color = colors_otherprop, edge_width=1.0,\n",
    "            vertex_size=5, target=\"./Figures/chemical-space-graph-otherprop.svg\",\n",
    "            inline=True)"
   ]
  },
  {
   "cell_type": "markdown",
   "metadata": {},
   "source": [
    "The graphs produced by the TDA technique require some careful interpretation. Physical proximity in the graph doesn't imply any similarity in the points. Instead, the links are significant. The features to look out for are flares coming off a main backbone, and holes in the dataset. The flares imply groups of related clusters with a distinguishing feature from the rest of the dataset -- this is often chemically important. The holes in the graph represent regions where there is no data in chemical space. If there is a hole in a chemically active region, it may be there that are \\enquote{missing link} chemicals that have not been studied.\n",
    "\n",
    "For instance, in the graph coloured by bioactivity we can see a flare off the main graph of more active compounds, while the body of the graph is less active. We can look at the compounds which feature in this group, to see if there is any shared chemical structure. When we look at the graph coloured by partition coefficient ``CMP_ACD_LOGD``, there is no correlation between the graph and colouring. "
   ]
  },
  {
   "cell_type": "code",
   "execution_count": null,
   "metadata": {},
   "outputs": [],
   "source": [
    "def draw_molecule(SMILES_string):\n",
    "    \"\"\"\n",
    "    Draws an SVG image of a molecule\n",
    "    given a SMILES string\n",
    "    \"\"\"\n",
    "    molec = Chem.MolFromSmiles(SMILES_string)\n",
    "    rdDepictor.Compute2DCoords(molec)\n",
    "    drawer = rdMolDraw2D.MolDraw2DSVG(250, 250)\n",
    "    drawer.DrawMolecule(molec)\n",
    "    drawer.FinishDrawing()\n",
    "    svg = drawer.GetDrawingText()\n",
    "    return svg"
   ]
  },
  {
   "cell_type": "code",
   "execution_count": null,
   "metadata": {},
   "outputs": [],
   "source": [
    "max_index = np.argmax(color_activities)\n",
    "max_node  = chemical_space_graph.vs[max_index][\"name\"]\n",
    "\n",
    "mols = []\n",
    "chem_ids = []\n",
    "print(\"The members of one active cluster are: \", end=\"\")\n",
    "for member in graph[\"nodes\"][max_node]:\n",
    "    chem_ids.append(chem_space_df.iloc[member][\"CMP_CHEMBL_ID\"])\n",
    "    mols.append(Chem.MolFromSmiles(chem_space_df.iloc[member][\"SMILES\"]))\n",
    "SVG(Chem.Draw.MolsToGridImage(mols, molsPerRow=3, legends=chem_ids, subImgSize=(250, 250), useSVG=True))\n"
   ]
  },
  {
   "cell_type": "markdown",
   "metadata": {},
   "source": [
    "## Drug Testing Space"
   ]
  },
  {
   "cell_type": "markdown",
   "metadata": {},
   "source": [
    "The neither the underlying space or the lens used in TDA have to have any physical meaning. This means that TDA is useful to gain an understanding of the structure of datasets which are very abstract. Here, I will use TDA to look at which drug-target interactions have been studied in the ChEMBL database in the hope that it will make links between groups or absences clear.\n",
    "\n",
    "Here, instead of a boolean chemical fingerprint, I am going to give each drug a \"testing fingerprint\". These fingerprints will be $n_\\text{targets}$ long, each each entry will be\n",
    "\\begin{equation}\n",
    "    V_{ij} = \\begin{cases} +1 \\qquad\\text{ if } \\quad i \\text{ is active against } j \\\\  -1 \\qquad \\text{if} \\quad i \\quad \\text{ is inactive against } j \\\\ 0 \\qquad \\text{ if } \\quad i \\text{, } j \\text{has not been tested.}\\end{cases}\n",
    "\\end{equation}"
   ]
  },
  {
   "cell_type": "code",
   "execution_count": null,
   "metadata": {},
   "outputs": [],
   "source": [
    "vector_df = pd.DataFrame(0, columns=possible_drugs.keys(),\n",
    "                         index=possible_targets.keys(),\n",
    "                         dtype=np.int8)\n",
    "for index, row in df.iterrows():\n",
    "    drug = row[\"CMP_CHEMBL_ID\"]\n",
    "    target = row[\"TGT_CHEMBL_ID\"]\n",
    "    if row[\"BIOACT_PCHEMBL_VALUE\"] > ACTIVITY_CUTOFF:\n",
    "        vector_df[drug][target] = 1\n",
    "    else:\n",
    "        vector_df[drug][target] = -1"
   ]
  },
  {
   "cell_type": "markdown",
   "metadata": {},
   "source": [
    "The distance metrics we used before can be adapted in terms of general dot products. This is not always generally applicable, and we must be careful to preserve the triangle inequality (that the distance between two points cannot be shortened by going through any third point). For example, the generalised Tanimoto distance\n",
    "\n",
    "\\begin{equation}\n",
    "    D_T = 1.0 - \\frac{v_1 \\cdot v_2}{\\left|v_1\\right|^2 + \\left|v_2\\right|^2 - v_1 \\cdot v_2}   \n",
    "\\end{equation}\n",
    "is not a valid distance metric if any elements of $v_1$ and $v_2$ are negative. Instead, the cosine distance\n",
    "\\begin{equation}\n",
    "    \\cos\\theta = \\frac{v_1 \\cdot v_2}{\\left|v_1\\right|\\left|v_2\\right|}   \n",
    "\\end{equation}\n",
    "is more appropriate."
   ]
  },
  {
   "cell_type": "code",
   "execution_count": null,
   "metadata": {},
   "outputs": [],
   "source": [
    "def dissimilarity(vec1, vec2, metric=\"euclidean\"):\n",
    "    \"\"\"\n",
    "    Takes in two vectors with values +1 and -1. Computes how far away they are\n",
    "    in according to the metric.\n",
    "    Current metrics:\n",
    "    - Euclidean, computes sqrt(vec1 dot vec2)\n",
    "    - Cosine distance\n",
    "    - Tanimoto\n",
    "    \"\"\"\n",
    "    metric = metric.lower()\n",
    "    vec1 = vec1.astype(np.int16)\n",
    "    vec2 = vec2.astype(np.int16)\n",
    "    if metric == \"euclidean\":\n",
    "        distance = np.abs(vec1 - vec2)\n",
    "        return np.sqrt(np.dot(distance, distance))\n",
    "    \n",
    "    if metric == \"cosine\":\n",
    "        return np.dot(vec1, vec2)/(np.sqrt(np.dot(vec1, vec1) *\n",
    "                                           np.dot(vec2, vec2)))\n",
    "                                   \n",
    "    if metric == \"tanimoto\":\n",
    "        return 1.0 - np.dot(vec1, vec2) / (np.dot(vec1, vec1) +\n",
    "                                           np.dot(vec2, vec2) -\n",
    "                                           np.dot(vec1, vec2))"
   ]
  },
  {
   "cell_type": "markdown",
   "metadata": {},
   "source": [
    "Here, I have chosen two different targets arbitrarily to see which compounds have been tested against them both. Then, if there are some compounds that have been tested on `A` but not on `B`, when similar compounds are effective against `B` exist, we can hope to infer something about the bioactivity of compounds."
   ]
  },
  {
   "cell_type": "code",
   "execution_count": null,
   "metadata": {},
   "outputs": [],
   "source": [
    "mask = np.logical_or.reduce([vector_df.loc[tgt].values != 0 \n",
    "                             for tgt in DRUG_SPACE_TARGETS])\n",
    "drug_space_df = vector_df.T[mask]"
   ]
  },
  {
   "cell_type": "code",
   "execution_count": null,
   "metadata": {
    "scrolled": true
   },
   "outputs": [],
   "source": [
    "if RENEW_MATRIX:\n",
    "    print(\"Renewing matrix\")\n",
    "    drug_distance_matrix = np.zeros([len(drug_space_df), len(drug_space_df)])\n",
    "    for index in range(len(drug_space_df)):\n",
    "        drug = drug_space_df.iloc[index]\n",
    "        if index % 100 == 0:\n",
    "            print(index, \"out of\", len(drug_space_df))\n",
    "        for other_index in range(index):\n",
    "            other_drug = drug_space_df.iloc[other_index]\n",
    "            distance = dissimilarity(drug, other_drug, metric=\"cosine\")\n",
    "            drug_distance_matrix[index, other_index] = distance\n",
    "            drug_distance_matrix[other_index, index] = distance\n",
    "    pickle.dump(drug_distance_matrix, open(\"drug-space-distance.pkl\", \"wb\"))\n",
    "else:\n",
    "    with open(\"drug-space-distance.pkl\", \"rb\") as pklfile:\n",
    "        drug_distance_matrix = pickle.load(pklfile)"
   ]
  },
  {
   "cell_type": "code",
   "execution_count": null,
   "metadata": {},
   "outputs": [],
   "source": [
    "%matplotlib inline\n",
    "plt.imshow(drug_distance_matrix, cmap='seismic')\n",
    "plt.colorbar()\n",
    "plt.show()"
   ]
  },
  {
   "cell_type": "markdown",
   "metadata": {},
   "source": [
    "The distance matrix pictured above shows two very different regions. If a square is coloured blue, the two compounds are active against similar targets. If it is red, one compound is active against targets that the other is inactive against. If it is white, there the two compounds have not been tested against similar targets. The block form of this image shows that almost all compounds tested against `A` have not been tested on similar sets of targets that the compounds tested against `B` have. There are a few cases where prolific compounds have been tested against lots of targets."
   ]
  },
  {
   "cell_type": "markdown",
   "metadata": {},
   "source": [
    "If we construct a lens just projecting the dataset onto an axis of \"tested against `CHEMBL4015`\", then the lens will effectively only correspond to the original active/not tested/inactive bins and give us no data. Instead, we can perform dimensionality reduction again using multidimensional scaling to identify two key testing axes and project the compounds onto those."
   ]
  },
  {
   "cell_type": "code",
   "execution_count": null,
   "metadata": {},
   "outputs": [],
   "source": [
    "mds_coordinate = MDS(n_components=2,\n",
    "                     dissimilarity=\"precomputed\",\n",
    "                     metric=False).fit_transform(drug_distance_matrix)"
   ]
  },
  {
   "cell_type": "code",
   "execution_count": null,
   "metadata": {},
   "outputs": [],
   "source": [
    "cover = km.Cover(n_cubes=[20, 15], perc_overlap=[0.30, 0.30])\n",
    "lens = mds_coordinate"
   ]
  },
  {
   "cell_type": "code",
   "execution_count": null,
   "metadata": {},
   "outputs": [],
   "source": [
    "mapper = km.KeplerMapper()\n",
    "graph = mapper.map(lens,\n",
    "                   X=drug_distance_matrix,\n",
    "                   precomputed=True,\n",
    "                   cover=cover,\n",
    "                   clusterer=clusterer)"
   ]
  },
  {
   "cell_type": "code",
   "execution_count": null,
   "metadata": {},
   "outputs": [],
   "source": [
    "drug_distance_graph = keplermapper_to_igraph(graph)"
   ]
  },
  {
   "cell_type": "markdown",
   "metadata": {},
   "source": [
    "The final step is to colour the graph in a manner to make it human readable. We can use the activity against a specific target to see the regions of this testing space that are active, inactive or not tested. The not tested regions are of the most interest to us, because they may contain potentially active compounds."
   ]
  },
  {
   "cell_type": "code",
   "execution_count": null,
   "metadata": {},
   "outputs": [],
   "source": [
    "cmap = plt.cm.get_cmap(\"seismic\")\n",
    "activities = []\n",
    "for vertex in drug_distance_graph.vs:\n",
    "    drug_indices = graph[\"nodes\"][vertex[\"name\"]]\n",
    "    vertex_activities = np.array([drug_space_df.iloc[index][\"CHEMBL4015\"]\n",
    "                                  for index in drug_indices])\n",
    "    \n",
    "    activity = np.mean(vertex_activities)\n",
    "    activities.append(activity)\n",
    "\n",
    "activities = np.array(activities)\n",
    "activities = activities - np.min(activities)\n",
    "activities = activities / np.max(activities)\n",
    "colors = []\n",
    "for activity in activities:\n",
    "    colors.append(cmap(activity))"
   ]
  },
  {
   "cell_type": "code",
   "execution_count": null,
   "metadata": {},
   "outputs": [],
   "source": [
    "layout = drug_distance_graph.layout(\"fr\")\n",
    "igraph.plot(drug_distance_graph, layout = layout,\n",
    "            vertex_color = colors,\n",
    "            edge_width=1.0, vertex_size=5,\n",
    "            target=\"./Figures/drug-distance-graph.svg\",\n",
    "            inline=False)"
   ]
  },
  {
   "cell_type": "markdown",
   "metadata": {},
   "source": [
    "In this topological graph of \\enquote{drug testing space}, nodes are close if the compounds within them have been tested to be active against a similar set of targets. If the cluster is active against `CHEMBL4015`, it is coloured red. If it is inactive, it is coloured blue. If it has not been tested, it is coloured white. We can interpret this graph by noticing a large hole in the centre. This represents a region of drug testing space where there is no data. The other important features of this graph are \\enquote{escape routes} -- the shortest node-to-node path between regions of active drugs. If this escape route passes through some white nodes, it would be interesting to test the compounds in the white nodes to see if they are active or inactive."
   ]
  },
  {
   "cell_type": "markdown",
   "metadata": {},
   "source": [
    "## Fibres of Failure\n",
    "### Theory\n",
    "Because Topological Data Analysis simplifies complex many-dimensional data, it can be used to aid intepreting machine learning techniques. One such way to interpret machine learning techniques is the Fibres of Failure method, as proposed by Carlson *et al* in 2018.<cite data-cite=\"Carlson2018\">(Carlson, 2018)</cite>\n",
    "\n",
    "This method uses a lens constructed of\n",
    "1. Predicted class\n",
    "2. Model's confidence in predicting the correct answer\n",
    "3. Model's confidence in its prediction\n",
    "4. A principal component / MDS on the original dataset\n",
    "By using this lens, the FiFa technique ensures that the prediction failures of the model are well separated from the prediction successes in topological space. A TDA graph is then constructed, and communities of failure are visible. These communities of failure can be identified either by eye with the aid of a colouring function based on prediction error, or with a programmatic community detection algorithm. In this work, I use leading eigenvector community detection.\n",
    "\n",
    "The community detection step identifies a series of error classes. These are groups of input data that the machine learning model gets wrong. A second machine learning classifier is trained to identify members of the error communities, and a correction factor is calculated as the average error in prediction of that community.\n",
    "\n",
    "Once the error community classifier is trained, it can work in tandem with the original predictive model. A new piece of data is fed in to both, and the error community classifier will modify the output of the first model. In this way, systematic failures of the predictor are fixed in a general manner."
   ]
  },
  {
   "cell_type": "markdown",
   "metadata": {},
   "source": [
    "### Computational Method\n",
    "To demonstrate this technique, I used a Random Forest classifier to predict whether a given drug will be active against `CHEMBL240`. It is given training set of 60% of the original data set, and a further 20% is used to train the Fibres of Failure model. The remaining 20% is a validation set to prevent over-training. Then, I used `igraph`'s leading eigenvector community detection to pick out error communities, which agree well with those identified by eye. Finally, I used a non-metric Support Vector Machine to classify a second training set into error communities. Any classifier could have been used here, such as Naive Bayes or any Decision Tree variant."
   ]
  },
  {
   "cell_type": "code",
   "execution_count": null,
   "metadata": {},
   "outputs": [],
   "source": [
    "rf_split_point = int(chem_space_df.shape[0] * TRAIN_RF_FRACTION)\n",
    "fifa_split_point = int(chem_space_df.shape[0] \n",
    "                       * (TRAIN_RF_FRACTION + TRAIN_FIFA_FRACTION))\n",
    "validation_split_point = int(chem_space_df.shape[0] \n",
    "                             * (1.0 - VALIDATE_FRACTION))\n",
    "rf_training_df = chem_space_df.iloc[:rf_split_point, :]\n",
    "fifa_training_df = chem_space_df.iloc[:fifa_split_point, :]\n",
    "validation_df = chem_space_df.iloc[validation_split_point:, :]"
   ]
  },
  {
   "cell_type": "code",
   "execution_count": null,
   "metadata": {},
   "outputs": [],
   "source": [
    "def convert_to_sparse(input_df, get_bitinfo=False):\n",
    "    \"\"\"\n",
    "    Converts a pandas dataframe into a sparse matrix of fingerprint observations\n",
    "    and a vector of activity classes.\n",
    "    \"\"\"\n",
    "    n_samples = input_df.shape[0]\n",
    "    if get_bitinfo:\n",
    "        bitinfos = []\n",
    "        molecs = []\n",
    "    arr = np.empty([n_samples, FP_SIZE], dtype=bool)\n",
    "    is_active = np.empty([n_samples], dtype=bool)\n",
    "    get_bv = AllChem.GetMorganFingerprintAsBitVect\n",
    "    for index, (item, row) in enumerate(input_df.iterrows()):\n",
    "        molec = Chem.MolFromSmiles(row[\"SMILES\"])\n",
    "        if get_bitinfo:\n",
    "            bi = {}\n",
    "            fingerprint = get_bv(molec,\n",
    "                                 radius=3,\n",
    "                                 nBits=FP_SIZE,\n",
    "                                 bitInfo = bi)\n",
    "            bitinfos.append(bi)\n",
    "            molecs.append(molec)\n",
    "        else:\n",
    "            fingerprint = get_bv(molec,\n",
    "                                 radius=3,\n",
    "                                 nBits=FP_SIZE)\n",
    "        DataStructs.ConvertToNumpyArray(fingerprint, arr[index, :])\n",
    "        if row[\"BIOACT_PCHEMBL_VALUE\"] < ACTIVITY_CUTOFF:\n",
    "            is_active[index] = False\n",
    "        else:\n",
    "            is_active[index] = True\n",
    "\n",
    "    observations = scipy.sparse.csc_matrix(arr)\n",
    "    if get_bitinfo:\n",
    "        return observations, is_active, bitinfos, molecs\n",
    "    return observations, is_active"
   ]
  },
  {
   "cell_type": "code",
   "execution_count": null,
   "metadata": {},
   "outputs": [],
   "source": [
    "rf_training_observations, rf_training_is_active = convert_to_sparse(rf_training_df)\n",
    "fifa_training_observations, fifa_training_is_active= convert_to_sparse(fifa_training_df)\n",
    "validation_observations, validation_is_active, bitinfos, molecs = convert_to_sparse(validation_df, get_bitinfo=True)"
   ]
  },
  {
   "cell_type": "code",
   "execution_count": null,
   "metadata": {},
   "outputs": [],
   "source": [
    "model = sklearn.ensemble.RandomForestClassifier(n_estimators=1024,\n",
    "                                                criterion=\"gini\",\n",
    "                                                n_jobs=4,\n",
    "                                                random_state=RANDOM_STATE,\n",
    "                                                oob_score=True)\n",
    "model.fit(rf_training_observations, rf_training_is_active)\n",
    "print(f\"Model's estimated score: {100*model.oob_score_:.2f}%\")\n",
    "model_score = model.score(validation_observations, validation_is_active)\n",
    "print(f\"Model's actual score: {100*model_score:.2f}%\")"
   ]
  },
  {
   "cell_type": "markdown",
   "metadata": {},
   "source": [
    "The model has a success rate of 75% on the validation dataset without the Fibres of Failure training. This could be improved by systematically testing the hyperparameters of the model, but the intention for this work is to find a way to correct for the errors in an imperfect model. The model scores highly on its own training data because it \\enquote{remembers} the data and reproduces the answer, so we must use a different dataset to test it. The Random Forest classifier estimates its own accuracy, which is similar to the actual accuracy.\n",
    "\n",
    "Random Forest classifiers are also interpretable, and report back \"feature importances\" for each bit in the fingerprint. We can look at these to see if there is any useful chemical meaning in it."
   ]
  },
  {
   "cell_type": "code",
   "execution_count": null,
   "metadata": {},
   "outputs": [],
   "source": [
    "most_important_features = model.feature_importances_.argsort()[-3:][::-1]\n",
    "relative_importances = model.feature_importances_[most_important_features] / np.mean(model.feature_importances_)\n",
    "molec_with_all_features = set(i for i in range(validation_observations.shape[0]))\n",
    "for feature in most_important_features:\n",
    "    molec_with_feature = set(validation_observations[:,feature].nonzero()[0])\n",
    "    molec_with_all_features = molec_with_feature.intersection(molec_with_all_features)\n",
    "\n",
    "molec_index = molec_with_all_features.pop()\n",
    "morgan_bit_infos = [(molecs[molec_index], feature, bitinfos[molec_index]) for feature in most_important_features]\n",
    "rdk_svg = Chem.Draw.DrawMorganBits(morgan_bit_infos, legends=[f\"{item:.2f}x more important\" for item in relative_importances])\n",
    "\n",
    "SVG(rdk_svg)"
   ]
  },
  {
   "cell_type": "markdown",
   "metadata": {},
   "source": [
    "From these, it appears that the predictive model is not extracting meaningful chemical data from the input fingerprints. It is instead picking out common polar groups."
   ]
  },
  {
   "cell_type": "code",
   "execution_count": null,
   "metadata": {},
   "outputs": [],
   "source": [
    "predictions = model.predict(fifa_training_observations)\n",
    "probabilities = model.predict_proba(fifa_training_observations)\n",
    "total_is_active = np.concatenate([rf_training_is_active,\n",
    "                                  fifa_training_is_active,\n",
    "                                  validation_is_active])\n",
    "\n",
    "probabilities_ground_truth = np.empty(probabilities.shape[0])\n",
    "probabilities_predicted = np.empty(probabilities.shape[0])\n",
    "\n",
    "for i in range(len(probabilities)):\n",
    "    is_active = int(total_is_active[i])\n",
    "\n",
    "    probabilities_ground_truth[i] = probabilities[i][is_active]\n",
    "    probabilities_predicted[i] = max(probabilities[i])"
   ]
  },
  {
   "cell_type": "code",
   "execution_count": null,
   "metadata": {},
   "outputs": [],
   "source": [
    "fifa_chemical_distance = distance_matrix[:fifa_split_point,\n",
    "                                         :fifa_split_point]\n",
    "fifa_mds_component = MDS(n_components=1,\n",
    "                         dissimilarity=\"precomputed\",\n",
    "                         metric=False).fit_transform(fifa_chemical_distance)"
   ]
  },
  {
   "cell_type": "markdown",
   "metadata": {},
   "source": [
    "The lens used in the Fibres of Failure approach is constructed of four segments as discussed before (activity class, confidence in the correct answer, confidence in the model's answer, and a function of the data)."
   ]
  },
  {
   "cell_type": "code",
   "execution_count": null,
   "metadata": {},
   "outputs": [],
   "source": [
    "lens = np.empty([probabilities.shape[0], 4])\n",
    "lens[:, 0] = fifa_training_is_active\n",
    "lens[:, 1] = probabilities_ground_truth\n",
    "lens[:, 2] = probabilities_predicted\n",
    "lens[:, 3] = fifa_mds_component[:, 0]\n",
    "active_percentage = 100.0 * np.sum(fifa_training_is_active) / fifa_training_is_active.shape[0]\n",
    "print(f\"{active_percentage:.2f}% of these compounds are active\")\n",
    "got_it_right = np.logical_not(np.logical_xor(fifa_training_is_active,\n",
    "                                             predictions))"
   ]
  },
  {
   "cell_type": "code",
   "execution_count": null,
   "metadata": {},
   "outputs": [],
   "source": [
    "mapper = km.KeplerMapper(verbose=0)\n",
    "graph = mapper.map(lens,\n",
    "                   X=fifa_chemical_distance,\n",
    "                   precomputed=True,\n",
    "                   cover=km.Cover(n_cubes=[2, 10, 10, 20],\n",
    "                                  perc_overlap=[0.0, 0.05, 0.05, 0.35]),\n",
    "                   clusterer=fifa_clusterer)\n",
    "\n",
    "fibres_of_failure_graph = keplermapper_to_igraph(graph)"
   ]
  },
  {
   "cell_type": "code",
   "execution_count": null,
   "metadata": {},
   "outputs": [],
   "source": [
    "cmap = plt.cm.get_cmap(\"viridis\")\n",
    "activities = []\n",
    "for vertex in fibres_of_failure_graph.vs:\n",
    "    drug_indices = graph[\"nodes\"][vertex[\"name\"]]\n",
    "    vertex_activities = np.array([probabilities_ground_truth[index]\n",
    "                                  for index in drug_indices])\n",
    "    \n",
    "    activity = np.mean(vertex_activities)\n",
    "    activities.append(activity)\n",
    "\n",
    "activities = np.array(activities)\n",
    "activities = activities - np.min(activities)\n",
    "activities = activities / np.max(activities)\n",
    "colors = []\n",
    "for activity in activities:\n",
    "    colors.append(cmap(activity))"
   ]
  },
  {
   "cell_type": "code",
   "execution_count": null,
   "metadata": {},
   "outputs": [],
   "source": [
    "layout = fibres_of_failure_graph.layout(\"fr\")\n",
    "igraph.plot(fibres_of_failure_graph, layout = layout,\n",
    "            vertex_color = colors, edge_width=1.0,\n",
    "            vertex_size=5,\n",
    "            target=\"./Figures/fibres-of-failure.svg\")"
   ]
  },
  {
   "cell_type": "markdown",
   "metadata": {},
   "source": [
    "The clusters-of-clusters we observe in the TDA graph can be identified either by eye or by community detection algorithms. Here, I use a Leading Eigenvector method to identify the communities and colour them."
   ]
  },
  {
   "cell_type": "code",
   "execution_count": null,
   "metadata": {
    "scrolled": false
   },
   "outputs": [],
   "source": [
    "communities = fibres_of_failure_graph.community_leading_eigenvector()\n",
    "\n",
    "flattened_nodes = []\n",
    "interesting_cubes = []\n",
    "for community in communities:\n",
    "    if len(community) > COMMUNITY_SIZE_CUTOFF:\n",
    "        node_names = [fibres_of_failure_graph.vs[item][\"name\"] for item in community]       \n",
    "        interesting_cubes.append(node_names)\n",
    "        temp_i_n = [graph[\"nodes\"][node] for node in node_names]\n",
    "        flattened_nodes.append(list(set([item for sublist in temp_i_n for item in sublist])))"
   ]
  },
  {
   "cell_type": "markdown",
   "metadata": {},
   "source": [
    "For each error community, we can calculate how wrong the original predictive model was in assessing them. We average the prediction error for each compound in the community and average them. The Fibres of Failure method is most accurate when the standard deviation in these error communities is small. To ensure we only look at well-defined error communities, we discard any with too small prediction errors or too large a deviation in prediction error."
   ]
  },
  {
   "cell_type": "code",
   "execution_count": null,
   "metadata": {},
   "outputs": [],
   "source": [
    "error_communities = []\n",
    "error_corrections = [np.array([0.0, 0.0])]\n",
    "error_cubes = []\n",
    "for i, community in enumerate(flattened_nodes):\n",
    "    errors = []\n",
    "    corrections = []\n",
    "    for node in community:\n",
    "        prediction_error = 1.0 - probabilities_ground_truth[node]\n",
    "        errors.append(prediction_error)\n",
    "        if total_is_active[node]:\n",
    "            corrections.append([-prediction_error, prediction_error])\n",
    "        else:\n",
    "            corrections.append([prediction_error, -prediction_error])\n",
    "    corrections = np.array(corrections)\n",
    "    correction_mean = np.mean(corrections, axis = 0)\n",
    "    correction_std = np.std(corrections, axis = 0, ddof=1)[0]\n",
    "    if abs(correction_mean[0]) > COMMUNITY_ERROR_CUTOFF and correction_std < COMMUNITY_STD_CUTOFF:\n",
    "        error_cubes.append(interesting_cubes[i])\n",
    "        error_corrections.append(correction_mean)\n",
    "        error_communities.append(flattened_nodes[i])"
   ]
  },
  {
   "cell_type": "markdown",
   "metadata": {},
   "source": [
    "``igraph`` provides a method to highlight vertices, which we can use to check the nature of the communities it has detected. This allows us to check if they are sensible, in that they are the correct size and localised on the graph. Here, I have combined it with colouring so any yellow node belongs to an error community, and each individual error community is bounded by a coloured polygon."
   ]
  },
  {
   "cell_type": "code",
   "execution_count": null,
   "metadata": {},
   "outputs": [],
   "source": [
    "community_colors = np.zeros(len(colors))\n",
    "for community in error_cubes:\n",
    "    for cube in community:\n",
    "        index = fibres_of_failure_graph.vs.find(cube).index\n",
    "        community_colors[index] = 1.0\n",
    "community_colors_list = []\n",
    "for item in community_colors:\n",
    "    community_colors_list.append(cmap(item))"
   ]
  },
  {
   "cell_type": "code",
   "execution_count": null,
   "metadata": {},
   "outputs": [],
   "source": [
    "discrete_colors = plt.cm.get_cmap(\"tab20\")\n",
    "\n",
    "vertex_highlight_dict = {}\n",
    "color_index = 0\n",
    "for community in error_cubes:\n",
    "    temp_list = []\n",
    "    for cube in community:\n",
    "        index = fibres_of_failure_graph.vs.find(cube).index\n",
    "        temp_list.append(index)\n",
    "    vertex_highlight_dict[tuple(temp_list)] = discrete_colors(color_index)\n",
    "    color_index += 1"
   ]
  },
  {
   "cell_type": "code",
   "execution_count": null,
   "metadata": {
    "scrolled": false
   },
   "outputs": [],
   "source": [
    "igraph.plot(fibres_of_failure_graph, layout = layout,\n",
    "            vertex_color = community_colors_list, edge_width=1.0,\n",
    "            vertex_size=5, mark_groups = vertex_highlight_dict,\n",
    "            target=\"./Figures/fibres-of-failure-communities.svg\")"
   ]
  },
  {
   "cell_type": "markdown",
   "metadata": {},
   "source": [
    "With the error communities visualised, we can test if any new compound is a member of them. We must build a classifier to sort chemicals into error communities. A good classifier for this task is another Random Forest, because it can provide information about its accuracy without an error set. This is because each decision node in the Random Forest is only provided with a subset of the data.\n",
    "\n",
    "For each error community, we have calculated an average correction for the original model. This is added to\n",
    "the probabilities that the original model generates, and then clamped to be in the $[0.0, 1.0)$ range."
   ]
  },
  {
   "cell_type": "code",
   "execution_count": null,
   "metadata": {},
   "outputs": [],
   "source": [
    "error_classes = np.zeros([probabilities_ground_truth.shape[0]], dtype=int)\n",
    "for i in range(0, len(error_communities)):\n",
    "    for node in error_communities[i]:\n",
    "        error_classes[node] = i + 1"
   ]
  },
  {
   "cell_type": "code",
   "execution_count": null,
   "metadata": {},
   "outputs": [],
   "source": [
    "rf_error_classifier = sklearn.ensemble.RandomForestClassifier(n_estimators=512,\n",
    "                                                              criterion=\"gini\",\n",
    "                                                              n_jobs=4,\n",
    "                                                              random_state=RANDOM_STATE,\n",
    "                                                              oob_score=True)\n",
    "rf_error_classifier.fit(fifa_training_observations, error_classes)\n",
    "print(f\"The error classifier estimates it is {100 * rf_error_classifier.oob_score_:.2f}% accurate\")"
   ]
  },
  {
   "cell_type": "markdown",
   "metadata": {},
   "source": [
    "The accuracy of the error classifier is what really limits this technique. If it is 75% accurate at predicting which class any given compound is in, but the compounds are mostly not errors, we will drown out any signal in the noise of mis-classifying non-error compounds as errors."
   ]
  },
  {
   "cell_type": "code",
   "execution_count": null,
   "metadata": {},
   "outputs": [],
   "source": [
    "error_populations = np.empty(len(error_communities), dtype=int)\n",
    "for error_class in range(0, len(error_communities)):\n",
    "    error_populations[error_class] = np.sum(error_classes == error_class)\n",
    "predicted_false_positives = int((1.0 - rf_error_classifier.oob_score_) * error_populations[0])\n",
    "predicted_true_positives = int(rf_error_classifier.oob_score_ * np.sum(error_populations[1:]))\n",
    "print(\"We expect to mispredict\", predicted_false_positives, \"correct compounds as errors\",\n",
    "      \"and\",predicted_true_positives, \"error compounds correctly as errors.\")"
   ]
  },
  {
   "cell_type": "markdown",
   "metadata": {},
   "source": [
    "Here we can see that exactly, with more correct compounds being mispredicted than there are correctly predicted error compounds. This means that we cannot usefully classify any new compound into an error class."
   ]
  },
  {
   "cell_type": "code",
   "execution_count": null,
   "metadata": {},
   "outputs": [],
   "source": [
    "predicted_error_classes = rf_error_classifier.predict(validation_observations)\n",
    "new_corrections = []\n",
    "for error_class in predicted_error_classes:\n",
    "    new_corrections.append(error_corrections[error_class])\n",
    "new_corrections = np.array(new_corrections)"
   ]
  },
  {
   "cell_type": "code",
   "execution_count": null,
   "metadata": {},
   "outputs": [],
   "source": [
    "new_probabilities = model.predict_proba(validation_observations)\n",
    "new_corrected_probabilities = new_probabilities + new_corrections\n",
    "new_corrected_probabilities = np.clip(new_corrected_probabilities, 0.0, 1.0)"
   ]
  },
  {
   "cell_type": "code",
   "execution_count": null,
   "metadata": {},
   "outputs": [],
   "source": [
    "predicted_classes = np.empty([new_probabilities.shape[0]], dtype=bool)\n",
    "corrected_predicted_classes = np.empty([new_probabilities.shape[0]], dtype=bool)\n",
    "for i in range(len(new_probabilities)):\n",
    "    pred_class = bool(np.argmax(new_probabilities[i, :]))\n",
    "    predicted_classes[i] = pred_class    \n",
    "\n",
    "    corrected_pred_class = bool(np.argmax(new_corrected_probabilities[i, :]))\n",
    "    corrected_predicted_classes[i] = corrected_pred_class\n",
    "    \n",
    "got_it_right = np.logical_not(np.logical_xor(predicted_classes, validation_is_active))\n",
    "got_it_right_corrected = np.logical_not(np.logical_xor(corrected_predicted_classes, validation_is_active))\n",
    "print(\"Without corrections: \", np.sum(got_it_right), \"out of\", got_it_right.shape[0])\n",
    "print(\"With corrections: \", np.sum(got_it_right_corrected), \"out of\", got_it_right.shape[0])"
   ]
  },
  {
   "cell_type": "markdown",
   "metadata": {},
   "source": [
    "We observe that there is no statistically significant difference in the model with or without the corrections applied. There are a great many false error classifications, and these cancel out the correct error classifications.\n",
    "\n",
    "Any new compound that is created cannot necessarily be classified into a pre-existing error group, because new compounds are often dramatically different to those that came before. The model's ability to successfully correct for errors is drowned out by misclassification of other compounds."
   ]
  },
  {
   "cell_type": "markdown",
   "metadata": {},
   "source": [
    "## Chemical Similarity in Error Communities\n",
    "This technique would be very useful if there was a set of similar chemical information in the communities of compounds that cause errors. For example, if there was a common functional group that caused the predictor to make a mistake, or a common molecular weight. However, a simple analysis of commonality in chemical fingerprints is likely to suffer from the \\enquote{look-elsewhere} effect. There are 2048 possible bits to be set in a fingerprint, so the likelihood of any given bit (representing a functional group) to differ between two communities is high. This would just be chance and not reflectively of any chemical meaning.\n",
    "\n",
    "Instead, we can look at whether some simple chemical properties are drawn from the same distribution. If they are drawn from different distributions, then there must be a chemical difference underpinning that. One technique to do so is the two-sample Kolmogorov-Smirnov statistic."
   ]
  },
  {
   "cell_type": "code",
   "execution_count": null,
   "metadata": {},
   "outputs": [],
   "source": [
    "COMPARISON_PROPERTIES = [\"CMP_ACD_LOGD\", \"CMP_ACD_LOGP\", \"CMP_ALOGP\", \"CMP_FULL_MWT\", \"CMP_LOGP\", \"BIOACT_PCHEMBL_VALUE\"]\n",
    "REJECTION_ALPHA = 0.05"
   ]
  },
  {
   "cell_type": "code",
   "execution_count": null,
   "metadata": {
    "scrolled": true
   },
   "outputs": [],
   "source": [
    "differing_properties = []\n",
    "for comparison_property in COMPARISON_PROPERTIES:\n",
    "    molecular_properties = []\n",
    "    for community in error_communities:\n",
    "        molecular_properties.append(np.array([fifa_training_df.iloc[node][comparison_property] for node in community]))\n",
    "\n",
    "    ks_statistic, p_value = scipy.stats.ks_2samp(molecular_properties[1], molecular_properties[2])\n",
    "\n",
    "    size_n = molecular_properties[1].shape[0]\n",
    "    size_m = molecular_properties[2].shape[0]\n",
    "    rejection_c = np.sqrt(-0.5 * np.log(REJECTION_ALPHA))\n",
    "    rejection_level = rejection_c * np.sqrt((size_n + size_n) / (size_n * size_m))\n",
    "    if ks_statistic > rejection_level and p_value < REJECTION_ALPHA:\n",
    "        print(\"We can rule out the null hypothesis at alpha =\", REJECTION_ALPHA, \"for\", comparison_property)\n",
    "        print(\"KS Statistic:\", ks_statistic, \"P-Value:\", p_value)\n",
    "        differing_properties.append(comparison_property)"
   ]
  },
  {
   "cell_type": "code",
   "execution_count": null,
   "metadata": {},
   "outputs": [],
   "source": [
    "for differing_property in differing_properties:\n",
    "    molecular_properties = []\n",
    "    for community in error_communities:\n",
    "        molecular_properties.append(np.array([fifa_training_df.iloc[node][differing_property] for node in community]))\n",
    "    means = [np.mean(prop) for prop in molecular_properties]\n",
    "    stdevs = [np.std(prop,ddof=1) for prop in molecular_properties]\n",
    "    print(f\"For the property {differing_property} the means are {means[1]:.2f}±{stdevs[1]:.2f} and {means[2]:.2f}±{stdevs[2]:.2f}\")"
   ]
  },
  {
   "cell_type": "markdown",
   "metadata": {},
   "source": [
    "Here, we can see that the error communities are singificantly different in their calculated partition coefficients ($\\log P $) and bioactivities. One error group has a considerably lower `BIOACT_PCHEMBL_VALUE` than the other. However, this reflects one of the significant problems in the Fibres of Failure method, and topological data analysis as a whole. The properties that are selected here as being different are very sensitive to the clustering algorithm and hyperparameters. With one set of parameters (e.g. overlap and number of hypercubes), the algorithm may pick out communities differing in $\\log P$. With a different set of parameters, it may pick out $\\log D$ as the differing property with no change in the underlying predictive model is it trying to correct for.\n",
    "\n",
    "The sensitivity of results to the hyperparameters makes extracting chemical information extremely difficult from the Fibres of Failure method. There is no way to say \\enquote{The predictor is bad if the compound features an $NH_2$ group}, or \\enquote{the predictor is bad for compounds with a high $\\log P $}."
   ]
  },
  {
   "cell_type": "markdown",
   "metadata": {},
   "source": [
    "### Results\n",
    "I found that the Fibres of Failure technique was not well suited to the task to predicting chemical activity. This is because the training data set is too small to effectively train both the initial predictor and the error classifier. New chemical compounds are often markedly different to those that already exist, due to the nature of patenting and competition chemical synthesis. This means that a new compound does not necessarily belong to a pre-existing failure class. With the dearth of training data available for the error community classifer, it suffers from over-predicting new drugs as members of the error communities. This classification noise can often harm the prediction accuracy.\n",
    "\n",
    "The Fibres of Failure method does not usefully select out many chemical features as contributing to the errors. Any chemical feature it does extract is simply an artefact of the parameterisation used, and is very sensitive to changing those parameters."
   ]
  },
  {
   "cell_type": "markdown",
   "metadata": {},
   "source": [
    "# Conclusions\n",
    "\n",
    "In conclusion, topological data analysis is useful for a specific class of problem. It suffers from too much parameterisation, which leads to a \\enquote{turning the handle} approach to a problem. The parameters must be tweaked non-systematically and assessed by eye until a worthwhile result is found. However, once that worthwhile result is found it is not always easy to interpret. The layout of the graphs leads naturally to an incorrect interpretation based on proximity, but a better interpretation is based on the clusters and the links between them. However, the clustering algorithm and the underlying space it works in are often very abstract and difficult to conceptualise -- with chemical fingerprints, a 2048-dimensional space, visualising the space is essentially impossible. This means that the lens and clustering algorithm act essentially as black boxes, and may pick out clusters in the data that have no physical basis.\n",
    "\n",
    "There are cases where the technique is powerful, and this is shown in the error analysis of the Fibres of Failure method. The TDA section of the Fibres of Failure (FIFA) method works extremely well, and correctly extracts useful regions where we can see that the predictive model has gone wrong. In problems where the dataset is dense, such as cases where additional error cases can be generated systematically (for instance, adding random noise to an image), classification into failure modes is very reliable. In these cases, the predictive models can be systematically improved by the FIFA method. Chemical space, however, is not a case where the FIFA method is effective. This is because chemical space is too sparsely populated, and classifying chemicals into groups is a non-trivial task even without an additional layer of machine learning to consider. Future work could look into chemical applications of the FIFA method where this limitation does not apply, for instance to machine learn the outputs of simulations where the parameters can be systematically varied to create a large dataset.\n"
   ]
  },
  {
   "cell_type": "raw",
   "metadata": {},
   "source": [
    "\\printbibliographies"
   ]
  }
 ],
 "metadata": {
  "kernelspec": {
   "display_name": "Python 3",
   "language": "python",
   "name": "python3"
  },
  "language_info": {
   "codemirror_mode": {
    "name": "ipython",
    "version": 3
   },
   "file_extension": ".py",
   "mimetype": "text/x-python",
   "name": "python",
   "nbconvert_exporter": "python",
   "pygments_lexer": "ipython3",
   "version": "3.7.3"
  }
 },
 "nbformat": 4,
 "nbformat_minor": 2
}
